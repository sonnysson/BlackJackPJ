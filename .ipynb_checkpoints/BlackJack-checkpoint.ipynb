{
 "cells": [
  {
   "cell_type": "code",
   "execution_count": 1,
   "id": "6be8b8c1-7dff-4330-9700-d2e309c6b5d2",
   "metadata": {},
   "outputs": [
    {
     "ename": "UnboundLocalError",
     "evalue": "local variable 'Player_Sum' referenced before assignment",
     "output_type": "error",
     "traceback": [
      "\u001b[1;31m---------------------------------------------------------------------------\u001b[0m",
      "\u001b[1;31mUnboundLocalError\u001b[0m                         Traceback (most recent call last)",
      "Input \u001b[1;32mIn [1]\u001b[0m, in \u001b[0;36mBlackJack.Btn_Hit\u001b[1;34m(self)\u001b[0m\n\u001b[0;32m     55\u001b[0m \u001b[38;5;28;01mdef\u001b[39;00m \u001b[38;5;21mBtn_Hit\u001b[39m(\u001b[38;5;28mself\u001b[39m): \u001b[38;5;66;03m# 카드 받기\u001b[39;00m\n\u001b[0;32m     56\u001b[0m     Player_Condition \u001b[38;5;241m=\u001b[39m \u001b[38;5;28;01mTrue\u001b[39;00m\n\u001b[1;32m---> 57\u001b[0m     \u001b[38;5;28;43mself\u001b[39;49m\u001b[38;5;241;43m.\u001b[39;49m\u001b[43mCard_divide\u001b[49m\u001b[43m(\u001b[49m\u001b[43m)\u001b[49m\n",
      "Input \u001b[1;32mIn [1]\u001b[0m, in \u001b[0;36mBlackJack.Card_divide\u001b[1;34m(self)\u001b[0m\n\u001b[0;32m     42\u001b[0m \u001b[38;5;28;01mdef\u001b[39;00m \u001b[38;5;21mCard_divide\u001b[39m(\u001b[38;5;28mself\u001b[39m):\n\u001b[1;32m---> 43\u001b[0m     Player_Sum \u001b[38;5;241m+\u001b[39m\u001b[38;5;241m=\u001b[39m random\u001b[38;5;241m.\u001b[39mrandrange(\u001b[38;5;241m1\u001b[39m,\u001b[38;5;241m10\u001b[39m)\n\u001b[0;32m     44\u001b[0m     \u001b[38;5;28mself\u001b[39m\u001b[38;5;241m.\u001b[39mPlayer_Sum\u001b[38;5;241m.\u001b[39msetText(\u001b[38;5;28mstr\u001b[39m(Player_Sum))\n",
      "\u001b[1;31mUnboundLocalError\u001b[0m: local variable 'Player_Sum' referenced before assignment"
     ]
    },
    {
     "ename": "UnboundLocalError",
     "evalue": "local variable 'Player_Sum' referenced before assignment",
     "output_type": "error",
     "traceback": [
      "\u001b[1;31m---------------------------------------------------------------------------\u001b[0m",
      "\u001b[1;31mUnboundLocalError\u001b[0m                         Traceback (most recent call last)",
      "Input \u001b[1;32mIn [1]\u001b[0m, in \u001b[0;36mBlackJack.Btn_Hit\u001b[1;34m(self)\u001b[0m\n\u001b[0;32m     55\u001b[0m \u001b[38;5;28;01mdef\u001b[39;00m \u001b[38;5;21mBtn_Hit\u001b[39m(\u001b[38;5;28mself\u001b[39m): \u001b[38;5;66;03m# 카드 받기\u001b[39;00m\n\u001b[0;32m     56\u001b[0m     Player_Condition \u001b[38;5;241m=\u001b[39m \u001b[38;5;28;01mTrue\u001b[39;00m\n\u001b[1;32m---> 57\u001b[0m     \u001b[38;5;28;43mself\u001b[39;49m\u001b[38;5;241;43m.\u001b[39;49m\u001b[43mCard_divide\u001b[49m\u001b[43m(\u001b[49m\u001b[43m)\u001b[49m\n",
      "Input \u001b[1;32mIn [1]\u001b[0m, in \u001b[0;36mBlackJack.Card_divide\u001b[1;34m(self)\u001b[0m\n\u001b[0;32m     42\u001b[0m \u001b[38;5;28;01mdef\u001b[39;00m \u001b[38;5;21mCard_divide\u001b[39m(\u001b[38;5;28mself\u001b[39m):\n\u001b[1;32m---> 43\u001b[0m     Player_Sum \u001b[38;5;241m+\u001b[39m\u001b[38;5;241m=\u001b[39m random\u001b[38;5;241m.\u001b[39mrandrange(\u001b[38;5;241m1\u001b[39m,\u001b[38;5;241m10\u001b[39m)\n\u001b[0;32m     44\u001b[0m     \u001b[38;5;28mself\u001b[39m\u001b[38;5;241m.\u001b[39mPlayer_Sum\u001b[38;5;241m.\u001b[39msetText(\u001b[38;5;28mstr\u001b[39m(Player_Sum))\n",
      "\u001b[1;31mUnboundLocalError\u001b[0m: local variable 'Player_Sum' referenced before assignment"
     ]
    },
    {
     "ename": "UnboundLocalError",
     "evalue": "local variable 'Player_Sum' referenced before assignment",
     "output_type": "error",
     "traceback": [
      "\u001b[1;31m---------------------------------------------------------------------------\u001b[0m",
      "\u001b[1;31mUnboundLocalError\u001b[0m                         Traceback (most recent call last)",
      "Input \u001b[1;32mIn [1]\u001b[0m, in \u001b[0;36mBlackJack.Btn_Hit\u001b[1;34m(self)\u001b[0m\n\u001b[0;32m     55\u001b[0m \u001b[38;5;28;01mdef\u001b[39;00m \u001b[38;5;21mBtn_Hit\u001b[39m(\u001b[38;5;28mself\u001b[39m): \u001b[38;5;66;03m# 카드 받기\u001b[39;00m\n\u001b[0;32m     56\u001b[0m     Player_Condition \u001b[38;5;241m=\u001b[39m \u001b[38;5;28;01mTrue\u001b[39;00m\n\u001b[1;32m---> 57\u001b[0m     \u001b[38;5;28;43mself\u001b[39;49m\u001b[38;5;241;43m.\u001b[39;49m\u001b[43mCard_divide\u001b[49m\u001b[43m(\u001b[49m\u001b[43m)\u001b[49m\n",
      "Input \u001b[1;32mIn [1]\u001b[0m, in \u001b[0;36mBlackJack.Card_divide\u001b[1;34m(self)\u001b[0m\n\u001b[0;32m     42\u001b[0m \u001b[38;5;28;01mdef\u001b[39;00m \u001b[38;5;21mCard_divide\u001b[39m(\u001b[38;5;28mself\u001b[39m):\n\u001b[1;32m---> 43\u001b[0m     Player_Sum \u001b[38;5;241m+\u001b[39m\u001b[38;5;241m=\u001b[39m random\u001b[38;5;241m.\u001b[39mrandrange(\u001b[38;5;241m1\u001b[39m,\u001b[38;5;241m10\u001b[39m)\n\u001b[0;32m     44\u001b[0m     \u001b[38;5;28mself\u001b[39m\u001b[38;5;241m.\u001b[39mPlayer_Sum\u001b[38;5;241m.\u001b[39msetText(\u001b[38;5;28mstr\u001b[39m(Player_Sum))\n",
      "\u001b[1;31mUnboundLocalError\u001b[0m: local variable 'Player_Sum' referenced before assignment"
     ]
    },
    {
     "ename": "UnboundLocalError",
     "evalue": "local variable 'Player_Sum' referenced before assignment",
     "output_type": "error",
     "traceback": [
      "\u001b[1;31m---------------------------------------------------------------------------\u001b[0m",
      "\u001b[1;31mUnboundLocalError\u001b[0m                         Traceback (most recent call last)",
      "Input \u001b[1;32mIn [1]\u001b[0m, in \u001b[0;36mBlackJack.Btn_Hit\u001b[1;34m(self)\u001b[0m\n\u001b[0;32m     55\u001b[0m \u001b[38;5;28;01mdef\u001b[39;00m \u001b[38;5;21mBtn_Hit\u001b[39m(\u001b[38;5;28mself\u001b[39m): \u001b[38;5;66;03m# 카드 받기\u001b[39;00m\n\u001b[0;32m     56\u001b[0m     Player_Condition \u001b[38;5;241m=\u001b[39m \u001b[38;5;28;01mTrue\u001b[39;00m\n\u001b[1;32m---> 57\u001b[0m     \u001b[38;5;28;43mself\u001b[39;49m\u001b[38;5;241;43m.\u001b[39;49m\u001b[43mCard_divide\u001b[49m\u001b[43m(\u001b[49m\u001b[43m)\u001b[49m\n",
      "Input \u001b[1;32mIn [1]\u001b[0m, in \u001b[0;36mBlackJack.Card_divide\u001b[1;34m(self)\u001b[0m\n\u001b[0;32m     42\u001b[0m \u001b[38;5;28;01mdef\u001b[39;00m \u001b[38;5;21mCard_divide\u001b[39m(\u001b[38;5;28mself\u001b[39m):\n\u001b[1;32m---> 43\u001b[0m     Player_Sum \u001b[38;5;241m+\u001b[39m\u001b[38;5;241m=\u001b[39m random\u001b[38;5;241m.\u001b[39mrandrange(\u001b[38;5;241m1\u001b[39m,\u001b[38;5;241m10\u001b[39m)\n\u001b[0;32m     44\u001b[0m     \u001b[38;5;28mself\u001b[39m\u001b[38;5;241m.\u001b[39mPlayer_Sum\u001b[38;5;241m.\u001b[39msetText(\u001b[38;5;28mstr\u001b[39m(Player_Sum))\n",
      "\u001b[1;31mUnboundLocalError\u001b[0m: local variable 'Player_Sum' referenced before assignment"
     ]
    },
    {
     "ename": "UnboundLocalError",
     "evalue": "local variable 'Player_Sum' referenced before assignment",
     "output_type": "error",
     "traceback": [
      "\u001b[1;31m---------------------------------------------------------------------------\u001b[0m",
      "\u001b[1;31mUnboundLocalError\u001b[0m                         Traceback (most recent call last)",
      "Input \u001b[1;32mIn [1]\u001b[0m, in \u001b[0;36mBlackJack.Btn_Hit\u001b[1;34m(self)\u001b[0m\n\u001b[0;32m     55\u001b[0m \u001b[38;5;28;01mdef\u001b[39;00m \u001b[38;5;21mBtn_Hit\u001b[39m(\u001b[38;5;28mself\u001b[39m): \u001b[38;5;66;03m# 카드 받기\u001b[39;00m\n\u001b[0;32m     56\u001b[0m     Player_Condition \u001b[38;5;241m=\u001b[39m \u001b[38;5;28;01mTrue\u001b[39;00m\n\u001b[1;32m---> 57\u001b[0m     \u001b[38;5;28;43mself\u001b[39;49m\u001b[38;5;241;43m.\u001b[39;49m\u001b[43mCard_divide\u001b[49m\u001b[43m(\u001b[49m\u001b[43m)\u001b[49m\n",
      "Input \u001b[1;32mIn [1]\u001b[0m, in \u001b[0;36mBlackJack.Card_divide\u001b[1;34m(self)\u001b[0m\n\u001b[0;32m     42\u001b[0m \u001b[38;5;28;01mdef\u001b[39;00m \u001b[38;5;21mCard_divide\u001b[39m(\u001b[38;5;28mself\u001b[39m):\n\u001b[1;32m---> 43\u001b[0m     Player_Sum \u001b[38;5;241m+\u001b[39m\u001b[38;5;241m=\u001b[39m random\u001b[38;5;241m.\u001b[39mrandrange(\u001b[38;5;241m1\u001b[39m,\u001b[38;5;241m10\u001b[39m)\n\u001b[0;32m     44\u001b[0m     \u001b[38;5;28mself\u001b[39m\u001b[38;5;241m.\u001b[39mPlayer_Sum\u001b[38;5;241m.\u001b[39msetText(\u001b[38;5;28mstr\u001b[39m(Player_Sum))\n",
      "\u001b[1;31mUnboundLocalError\u001b[0m: local variable 'Player_Sum' referenced before assignment"
     ]
    },
    {
     "ename": "UnboundLocalError",
     "evalue": "local variable 'Player_Sum' referenced before assignment",
     "output_type": "error",
     "traceback": [
      "\u001b[1;31m---------------------------------------------------------------------------\u001b[0m",
      "\u001b[1;31mUnboundLocalError\u001b[0m                         Traceback (most recent call last)",
      "Input \u001b[1;32mIn [1]\u001b[0m, in \u001b[0;36mBlackJack.Btn_Hit\u001b[1;34m(self)\u001b[0m\n\u001b[0;32m     55\u001b[0m \u001b[38;5;28;01mdef\u001b[39;00m \u001b[38;5;21mBtn_Hit\u001b[39m(\u001b[38;5;28mself\u001b[39m): \u001b[38;5;66;03m# 카드 받기\u001b[39;00m\n\u001b[0;32m     56\u001b[0m     Player_Condition \u001b[38;5;241m=\u001b[39m \u001b[38;5;28;01mTrue\u001b[39;00m\n\u001b[1;32m---> 57\u001b[0m     \u001b[38;5;28;43mself\u001b[39;49m\u001b[38;5;241;43m.\u001b[39;49m\u001b[43mCard_divide\u001b[49m\u001b[43m(\u001b[49m\u001b[43m)\u001b[49m\n",
      "Input \u001b[1;32mIn [1]\u001b[0m, in \u001b[0;36mBlackJack.Card_divide\u001b[1;34m(self)\u001b[0m\n\u001b[0;32m     42\u001b[0m \u001b[38;5;28;01mdef\u001b[39;00m \u001b[38;5;21mCard_divide\u001b[39m(\u001b[38;5;28mself\u001b[39m):\n\u001b[1;32m---> 43\u001b[0m     Player_Sum \u001b[38;5;241m+\u001b[39m\u001b[38;5;241m=\u001b[39m random\u001b[38;5;241m.\u001b[39mrandrange(\u001b[38;5;241m1\u001b[39m,\u001b[38;5;241m10\u001b[39m)\n\u001b[0;32m     44\u001b[0m     \u001b[38;5;28mself\u001b[39m\u001b[38;5;241m.\u001b[39mPlayer_Sum\u001b[38;5;241m.\u001b[39msetText(\u001b[38;5;28mstr\u001b[39m(Player_Sum))\n",
      "\u001b[1;31mUnboundLocalError\u001b[0m: local variable 'Player_Sum' referenced before assignment"
     ]
    },
    {
     "ename": "UnboundLocalError",
     "evalue": "local variable 'Player_Sum' referenced before assignment",
     "output_type": "error",
     "traceback": [
      "\u001b[1;31m---------------------------------------------------------------------------\u001b[0m",
      "\u001b[1;31mUnboundLocalError\u001b[0m                         Traceback (most recent call last)",
      "Input \u001b[1;32mIn [1]\u001b[0m, in \u001b[0;36mBlackJack.Btn_Hit\u001b[1;34m(self)\u001b[0m\n\u001b[0;32m     55\u001b[0m \u001b[38;5;28;01mdef\u001b[39;00m \u001b[38;5;21mBtn_Hit\u001b[39m(\u001b[38;5;28mself\u001b[39m): \u001b[38;5;66;03m# 카드 받기\u001b[39;00m\n\u001b[0;32m     56\u001b[0m     Player_Condition \u001b[38;5;241m=\u001b[39m \u001b[38;5;28;01mTrue\u001b[39;00m\n\u001b[1;32m---> 57\u001b[0m     \u001b[38;5;28;43mself\u001b[39;49m\u001b[38;5;241;43m.\u001b[39;49m\u001b[43mCard_divide\u001b[49m\u001b[43m(\u001b[49m\u001b[43m)\u001b[49m\n",
      "Input \u001b[1;32mIn [1]\u001b[0m, in \u001b[0;36mBlackJack.Card_divide\u001b[1;34m(self)\u001b[0m\n\u001b[0;32m     42\u001b[0m \u001b[38;5;28;01mdef\u001b[39;00m \u001b[38;5;21mCard_divide\u001b[39m(\u001b[38;5;28mself\u001b[39m):\n\u001b[1;32m---> 43\u001b[0m     Player_Sum \u001b[38;5;241m+\u001b[39m\u001b[38;5;241m=\u001b[39m random\u001b[38;5;241m.\u001b[39mrandrange(\u001b[38;5;241m1\u001b[39m,\u001b[38;5;241m10\u001b[39m)\n\u001b[0;32m     44\u001b[0m     \u001b[38;5;28mself\u001b[39m\u001b[38;5;241m.\u001b[39mPlayer_Sum\u001b[38;5;241m.\u001b[39msetText(\u001b[38;5;28mstr\u001b[39m(Player_Sum))\n",
      "\u001b[1;31mUnboundLocalError\u001b[0m: local variable 'Player_Sum' referenced before assignment"
     ]
    },
    {
     "ename": "UnboundLocalError",
     "evalue": "local variable 'Player_Sum' referenced before assignment",
     "output_type": "error",
     "traceback": [
      "\u001b[1;31m---------------------------------------------------------------------------\u001b[0m",
      "\u001b[1;31mUnboundLocalError\u001b[0m                         Traceback (most recent call last)",
      "Input \u001b[1;32mIn [1]\u001b[0m, in \u001b[0;36mBlackJack.Btn_Hit\u001b[1;34m(self)\u001b[0m\n\u001b[0;32m     55\u001b[0m \u001b[38;5;28;01mdef\u001b[39;00m \u001b[38;5;21mBtn_Hit\u001b[39m(\u001b[38;5;28mself\u001b[39m): \u001b[38;5;66;03m# 카드 받기\u001b[39;00m\n\u001b[0;32m     56\u001b[0m     Player_Condition \u001b[38;5;241m=\u001b[39m \u001b[38;5;28;01mTrue\u001b[39;00m\n\u001b[1;32m---> 57\u001b[0m     \u001b[38;5;28;43mself\u001b[39;49m\u001b[38;5;241;43m.\u001b[39;49m\u001b[43mCard_divide\u001b[49m\u001b[43m(\u001b[49m\u001b[43m)\u001b[49m\n",
      "Input \u001b[1;32mIn [1]\u001b[0m, in \u001b[0;36mBlackJack.Card_divide\u001b[1;34m(self)\u001b[0m\n\u001b[0;32m     42\u001b[0m \u001b[38;5;28;01mdef\u001b[39;00m \u001b[38;5;21mCard_divide\u001b[39m(\u001b[38;5;28mself\u001b[39m):\n\u001b[1;32m---> 43\u001b[0m     Player_Sum \u001b[38;5;241m+\u001b[39m\u001b[38;5;241m=\u001b[39m random\u001b[38;5;241m.\u001b[39mrandrange(\u001b[38;5;241m1\u001b[39m,\u001b[38;5;241m10\u001b[39m)\n\u001b[0;32m     44\u001b[0m     \u001b[38;5;28mself\u001b[39m\u001b[38;5;241m.\u001b[39mPlayer_Sum\u001b[38;5;241m.\u001b[39msetText(\u001b[38;5;28mstr\u001b[39m(Player_Sum))\n",
      "\u001b[1;31mUnboundLocalError\u001b[0m: local variable 'Player_Sum' referenced before assignment"
     ]
    },
    {
     "ename": "UnboundLocalError",
     "evalue": "local variable 'Player_Sum' referenced before assignment",
     "output_type": "error",
     "traceback": [
      "\u001b[1;31m---------------------------------------------------------------------------\u001b[0m",
      "\u001b[1;31mUnboundLocalError\u001b[0m                         Traceback (most recent call last)",
      "Input \u001b[1;32mIn [1]\u001b[0m, in \u001b[0;36mBlackJack.Btn_Hit\u001b[1;34m(self)\u001b[0m\n\u001b[0;32m     55\u001b[0m \u001b[38;5;28;01mdef\u001b[39;00m \u001b[38;5;21mBtn_Hit\u001b[39m(\u001b[38;5;28mself\u001b[39m): \u001b[38;5;66;03m# 카드 받기\u001b[39;00m\n\u001b[0;32m     56\u001b[0m     Player_Condition \u001b[38;5;241m=\u001b[39m \u001b[38;5;28;01mTrue\u001b[39;00m\n\u001b[1;32m---> 57\u001b[0m     \u001b[38;5;28;43mself\u001b[39;49m\u001b[38;5;241;43m.\u001b[39;49m\u001b[43mCard_divide\u001b[49m\u001b[43m(\u001b[49m\u001b[43m)\u001b[49m\n",
      "Input \u001b[1;32mIn [1]\u001b[0m, in \u001b[0;36mBlackJack.Card_divide\u001b[1;34m(self)\u001b[0m\n\u001b[0;32m     42\u001b[0m \u001b[38;5;28;01mdef\u001b[39;00m \u001b[38;5;21mCard_divide\u001b[39m(\u001b[38;5;28mself\u001b[39m):\n\u001b[1;32m---> 43\u001b[0m     Player_Sum \u001b[38;5;241m+\u001b[39m\u001b[38;5;241m=\u001b[39m random\u001b[38;5;241m.\u001b[39mrandrange(\u001b[38;5;241m1\u001b[39m,\u001b[38;5;241m10\u001b[39m)\n\u001b[0;32m     44\u001b[0m     \u001b[38;5;28mself\u001b[39m\u001b[38;5;241m.\u001b[39mPlayer_Sum\u001b[38;5;241m.\u001b[39msetText(\u001b[38;5;28mstr\u001b[39m(Player_Sum))\n",
      "\u001b[1;31mUnboundLocalError\u001b[0m: local variable 'Player_Sum' referenced before assignment"
     ]
    }
   ],
   "source": [
    "import sys\n",
    "import random\n",
    "from PyQt5.QtWidgets import *\n",
    "from PyQt5 import uic\n",
    "\n",
    "form_class=uic.loadUiType('BlackJack.ui')[0]\n",
    "\n",
    "class BlackJack(QMainWindow,form_class):\n",
    "    \n",
    "    \n",
    "    def __init__(self):\n",
    "        super().__init__()\n",
    "        self.setupUi(self)\n",
    "        self.setWindowTitle('BlackJack')\n",
    "        \n",
    "        global Wallet\n",
    "        global Betting\n",
    "        global Player_Sum\n",
    "        \n",
    "        Wallet = 1000 # 플레이어 잔고\n",
    "        Betting = 0 # 플레이어 배팅금액\n",
    "        Dealer_Count = 0 #딜러가 카드를 받은 개수\n",
    "        Dealer_Sum = 0 # 딜러 카드 숫자 합\n",
    "        Player_Count = 0 #플레이어가 카드를 받은 개수\n",
    "        Player_Sum = 0 # 플레이어 카드 숫자 합\n",
    "        Player_Condition = True # 플레이어가 카드를 받기로 했는지\n",
    "        Dealer_Conditon = True # 딜러가 카드를 받기로 했는지\n",
    "        \n",
    "        \n",
    "    def Start(self): # 게임시작\n",
    "        \n",
    "        Wallet = 1000 #지갑을 1000$로 리셋\n",
    "        self.Show_Wallet.setText(str(Wallet)+'$')\n",
    "        Dealer_Count = 0 #딜러와 플레이어의 카드를 리셋\n",
    "        Player_Count = 0\n",
    "        \n",
    "        Dealer_Sum = 0 #딜러와 플레이어의 카드의 합을 리셋\n",
    "        self.Dealer_Sum.setText(str(Dealer_Sum))\n",
    "        Player_Sum = 0\n",
    "        self.Player_Sum.setText(str(Player_Sum))\n",
    "        \n",
    "    def Card_divide(self):\n",
    "        Player_Sum += random.randrange(1,10)\n",
    "        self.Player_Sum.setText(str(Player_Sum))    \n",
    "        \n",
    "    def Btn_100(self): #100% 배팅\n",
    "        Betting = Wallet\n",
    "        self.Show_Betting.setText(str(Betting)+'$')\n",
    "    def Btn_50(self): #50% 배팅\n",
    "        Betting = Wallet/2\n",
    "        self.Show_Betting.setText(str(Betting)+'$')\n",
    "    def Btn_Reset(self): #배팅금 리셋\n",
    "        Betting = 0\n",
    "        self.Show_Betting.setText('0 $')\n",
    "    def Btn_Hit(self): # 카드 받기\n",
    "        Player_Condition = True\n",
    "        self.Card_divide()\n",
    "    def Btn_Stay(self): # 더이상 카드 받지 않기\n",
    "        Player_Condition = False\n",
    "        \n",
    "if __name__ =='__main__':\n",
    "    app = QApplication(sys.argv)\n",
    "    demoWindow = BlackJack()\n",
    "    demoWindow.show()\n",
    "    app.exec_()"
   ]
  },
  {
   "cell_type": "code",
   "execution_count": null,
   "id": "f9f8cdf8-ce6c-4da1-bd37-23074c55c046",
   "metadata": {},
   "outputs": [],
   "source": []
  }
 ],
 "metadata": {
  "kernelspec": {
   "display_name": "Python 3 (ipykernel)",
   "language": "python",
   "name": "python3"
  },
  "language_info": {
   "codemirror_mode": {
    "name": "ipython",
    "version": 3
   },
   "file_extension": ".py",
   "mimetype": "text/x-python",
   "name": "python",
   "nbconvert_exporter": "python",
   "pygments_lexer": "ipython3",
   "version": "3.9.12"
  }
 },
 "nbformat": 4,
 "nbformat_minor": 5
}
